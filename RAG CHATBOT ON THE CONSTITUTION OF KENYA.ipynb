{
 "cells": [
  {
   "cell_type": "markdown",
   "id": "bc32c970",
   "metadata": {},
   "source": [
    "#### Building a RAG chatbot system for the constitution of Kenya"
   ]
  },
  {
   "cell_type": "code",
   "execution_count": 9,
   "id": "b5072b2f",
   "metadata": {},
   "outputs": [],
   "source": [
    "from pdfminer.high_level import extract_text\n",
    "\n",
    "pdf_path = \"The_Constitution_of_Kenya_2010.pdf\"\n",
    "text = extract_text(pdf_path)\n",
    "\n",
    "# Save to .txt for reuse\n",
    "with open(\"constitution_of_kenya.txt\", \"w\", encoding=\"utf-8\") as f:\n",
    "    f.write(text)"
   ]
  },
  {
   "cell_type": "code",
   "execution_count": 10,
   "id": "87d3e56e",
   "metadata": {},
   "outputs": [
    {
     "name": "stdout",
     "output_type": "stream",
     "text": [
      "LAWS OF KENYA\n",
      "\n",
      "THE CONSTITUTION OF KENYA, 2010\n",
      "\n",
      "Published by the National Council for Law Reporting\n",
      "with the Authority of the Attorney-General\n",
      "\n",
      "www.kenyalaw.org\n",
      "\n",
      "\fConstitution of Kenya, 2010\n",
      "\n",
      "THE CONSTITUTION OF KENYA, 2010\n",
      "\n",
      "ARRANGEMENT OF ARTICLES\n",
      "\n",
      "PREAMBLE\n",
      "\n",
      "CHAPTER ONE—SOVEREIGNTY OF THE PEOPLE AND \n",
      "\n",
      "SUPREMACY OF THIS CONSTITUTION\n",
      "\n",
      "1—Sovereignty of the people.\n",
      "2—Supremacy of this Constitution.\n",
      "3—Defence of this Constitution.\n",
      "\n",
      "CHAPTER TWO—THE REPUBLIC\n",
      "\n",
      "4—Declaration of the Republic.\n",
      "5—Territory\n"
     ]
    }
   ],
   "source": [
    "print(text[:500])"
   ]
  },
  {
   "cell_type": "code",
   "execution_count": 11,
   "id": "509b84ef",
   "metadata": {},
   "outputs": [],
   "source": [
    "import requests\n",
    "from langchain.text_splitter import RecursiveCharacterTextSplitter\n",
    "from langchain_community.vectorstores import Chroma\n",
    "from langchain_community.embeddings import SentenceTransformerEmbeddings\n",
    "from pdfminer.high_level import extract_text"
   ]
  },
  {
   "cell_type": "code",
   "execution_count": 12,
   "id": "aab8d2d1",
   "metadata": {},
   "outputs": [],
   "source": [
    "pdf_path = \"The_Constitution_of_Kenya_2010.pdf\"\n",
    "text = extract_text(pdf_path)\n",
    "\n",
    "# Save to .txt for reuse\n",
    "with open(\"constitution_of_kenya.txt\", \"w\", encoding=\"utf-8\") as f:\n",
    "    f.write(text)\n",
    "\n",
    "splitter = RecursiveCharacterTextSplitter(chunk_size=500, chunk_overlap=50)\n",
    "chunks = splitter.split_text(text)"
   ]
  },
  {
   "cell_type": "code",
   "execution_count": 15,
   "id": "2dc0dc00",
   "metadata": {},
   "outputs": [],
   "source": [
    "# Step 2:\n",
    "# Embed and Store in ChromaDB ===\n",
    "embedding_model = SentenceTransformerEmbeddings(model_name=\"all-MiniLM-L6-v2\")\n",
    "db = Chroma.from_texts(chunks, embedding_model)"
   ]
  },
  {
   "cell_type": "code",
   "execution_count": null,
   "id": "5f383593",
   "metadata": {},
   "outputs": [],
   "source": [
    "# Step 3:\n",
    "# Retrieve Relevant Chunks ===\n",
    "def retrieve_context(query, k=4):\n",
    "    results = db.similarity_search(query, k=k)\n",
    "    return \"\\n\".join([doc.page_content for doc in results])"
   ]
  },
  {
   "cell_type": "code",
   "execution_count": 17,
   "id": "ca4aff98",
   "metadata": {},
   "outputs": [],
   "source": [
    "#  step 4:\n",
    "#  Query Groq API \n",
    "def query_groq(context, question, api_key):\n",
    "    url = \"https://api.groq.com/openai/v1/chat/completions\"\n",
    "    headers = {\n",
    "        \"Authorization\": f\"Bearer {api_key}\",\n",
    "        \"Content-Type\": \"application/json\"\n",
    "    }\n",
    "    prompt = f\"\"\"Use the following excerpts from the Constitution of Kenya to answer the question:\n",
    "{context}\n",
    "\n",
    "Question: {question}\n",
    "Answer:\"\"\"\n",
    "\n",
    "    data = {\n",
    "        \"model\": \"mixtral-8x7b-32768\",\n",
    "        \"messages\": [{\"role\": \"user\", \"content\": prompt}],\n",
    "        \"temperature\": 0.7\n",
    "    }\n",
    "\n",
    "    response = requests.post(url, headers=headers, json=data)\n",
    "    return response.json()[\"choices\"][0][\"message\"][\"content\"]"
   ]
  },
  {
   "cell_type": "code",
   "execution_count": 18,
   "id": "2df9e8f1",
   "metadata": {},
   "outputs": [],
   "source": [
    "def ask_constitution(query, api_key):\n",
    "    context = retrieve_context(query)\n",
    "    answer = query_groq(context, query, api_key)\n",
    "    return answer\n",
    "\n"
   ]
  },
  {
   "cell_type": "code",
   "execution_count": 21,
   "id": "b9ab0596",
   "metadata": {},
   "outputs": [],
   "source": [
    "# Example Usage \n",
    "import requests\n",
    "def query_groq(context, query, api_key):\n",
    "    url = \"https://api.groq.com/openai/v1/chat/completions\"\n",
    "    \n",
    "    headers = {\n",
    "        \"Authorization\": f\"Bearer {api_key}\",\n",
    "        \"Content-Type\": \"application/json\"\n",
    "    }\n",
    "    \n",
    "    prompt = f\"\"\"\n",
    "    Based on the following context from the Constitution, answer the question.\n",
    "    \n",
    "    Context: {context}\n",
    "    \n",
    "    Question: {query}\n",
    "    \n",
    "    Answer:\n",
    "    \"\"\"\n",
    "    \n",
    "    data = {\n",
    "        \"model\": \"llama-3.3-70b-versatile\",  # Updated model name\n",
    "        \"messages\": [{\"role\": \"user\", \"content\": prompt}],\n",
    "        \"temperature\": 0.7\n",
    "    }\n",
    "    \n",
    "    response = requests.post(url, headers=headers, json=data)\n",
    "    \n",
    "    if response.status_code != 200:\n",
    "        return f\"Error: API request failed with status {response.status_code}\"\n",
    "    \n",
    "    response_data = response.json()\n",
    "    \n",
    "    if \"choices\" not in response_data:\n",
    "        return f\"Error: Unexpected API response format. Response: {response_data}\"\n",
    "    \n",
    "    return response_data[\"choices\"][0][\"message\"][\"content\"]"
   ]
  },
  {
   "cell_type": "code",
   "execution_count": 29,
   "id": "5d3bdab4",
   "metadata": {},
   "outputs": [
    {
     "name": "stdout",
     "output_type": "stream",
     "text": [
      "According to the Constitution of Kenya, 2010, the following points are made about tax:\n",
      "\n",
      "1. **National Government Taxes**: The national government has the power to impose the following taxes:\n",
      "   - Income tax\n",
      "   - Value-added tax\n",
      "   - Customs duties and other duties on import and export goods\n",
      "   - Excise tax\n",
      "\n",
      "2. **Authorization for Other Taxes**: An Act of Parliament may authorize the national government to impose any other tax or duty, except for property rates and entertainment taxes, which are reserved for counties.\n",
      "\n",
      "3. **County Government Taxes**: A county may impose:\n",
      "   - Property rates\n",
      "   - Entertainment taxes\n",
      "   - Any other tax that it is authorized to impose by an Act of Parliament\n",
      "\n",
      "4. **Restrictions on County Taxation Powers**: The taxation and other revenue-raising powers of a county shall not be exercised in a way that prejudices national economic policies, economic activities across county boundaries, or the national mobility of goods, services, capital, or labor.\n",
      "\n",
      "5. **Charges for Services**: Both national and county governments may impose charges for the services they provide.\n",
      "\n",
      "These provisions outline the framework for taxation in Kenya, delineating the taxing powers of the national and county governments and ensuring that taxation does not hinder national economic policies or the free movement of goods, services, capital, and labor.\n"
     ]
    }
   ],
   "source": [
    "groq_api_key = \"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\"\n",
    "question = input(\"Enter your question about the Constitution of Kenya: \")\n",
    "response = ask_constitution(question, groq_api_key)\n",
    "print(response)"
   ]
  }
 ],
 "metadata": {
  "kernelspec": {
   "display_name": "base",
   "language": "python",
   "name": "python3"
  },
  "language_info": {
   "codemirror_mode": {
    "name": "ipython",
    "version": 3
   },
   "file_extension": ".py",
   "mimetype": "text/x-python",
   "name": "python",
   "nbconvert_exporter": "python",
   "pygments_lexer": "ipython3",
   "version": "3.13.5"
  }
 },
 "nbformat": 4,
 "nbformat_minor": 5
}
